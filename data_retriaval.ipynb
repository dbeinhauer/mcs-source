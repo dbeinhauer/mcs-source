{
 "cells": [
  {
   "cell_type": "code",
   "execution_count": 1,
   "id": "400f298b-a92b-4fa7-b37a-6a808278c3d5",
   "metadata": {},
   "outputs": [],
   "source": [
    "import sys\n",
    "from unicodedata import name\n",
    "from mozaik.controller import Global, setup_logging\n",
    "from mozaik.storage.datastore import PickledDataStore\n",
    "from parameters import ParameterSet\n",
    "from mozaik.storage.queries import param_filter_query\n",
    "import mozaik\n",
    "import os\n",
    "import gc\n",
    "import pickle\n",
    "import numpy as np\n",
    "from mozaik.tools.mozaik_parametrized import MozaikParametrized\n",
    "from tqdm import tqdm\n",
    "import logging\n",
    "import imagen \n",
    "from imagen.image import BoundingBox\n",
    "from mozaik.stimuli.vision.topographica_based import MaximumDynamicRange"
   ]
  },
  {
   "cell_type": "code",
   "execution_count": 2,
   "id": "660b95c0-8632-4105-8151-7b6bdfcd950d",
   "metadata": {},
   "outputs": [],
   "source": [
    "logging.basicConfig(stream=sys.stdout, level=logging.ERROR)\n"
   ]
  },
  {
   "cell_type": "code",
   "execution_count": 3,
   "id": "18d89ba0-5c1c-4a26-9b80-4a755ce099b6",
   "metadata": {},
   "outputs": [],
   "source": [
    "def get_datastore(root):\n",
    "    Global.root_directory = root\n",
    "    datastore = PickledDataStore(\n",
    "        load=True,\n",
    "        parameters=ParameterSet({\"root_directory\": root, \"store_stimuli\": False}),\n",
    "        replace=True,\n",
    "    )\n",
    "    return datastore\n"
   ]
  },
  {
   "cell_type": "code",
   "execution_count": 4,
   "id": "4c974f5f-5e4f-48fd-8c0a-782c4969725a",
   "metadata": {},
   "outputs": [],
   "source": [
    "def extract_images(path):\n",
    "    path = path.split(\"from_\")[1].split(\"_\")[0]\n",
    "    return path"
   ]
  },
  {
   "cell_type": "code",
   "execution_count": 5,
   "id": "0a61f719-240c-48aa-b29a-7f4815e59887",
   "metadata": {},
   "outputs": [],
   "source": [
    "def pickledump(path, file):\n",
    "    with open(path, \"wb\") as f:\n",
    "        pickle.dump(file, f)\n"
   ]
  },
  {
   "cell_type": "code",
   "execution_count": 6,
   "id": "ce6f0b0e-b5c7-4e46-8b65-79f7b69fe57b",
   "metadata": {},
   "outputs": [],
   "source": [
    "def reconstruct_stimuli(s):\n",
    "    pattern_sampler = imagen.image.PatternSampler(\n",
    "            size_normalization=\"fit_shortest\",\n",
    "            whole_pattern_output_fns=[MaximumDynamicRange()],\n",
    "        )\n",
    "\n",
    "    img = imagen.image.FileImage(\n",
    "        filename=s.image_path,\n",
    "        x=0,\n",
    "        y=0,\n",
    "        orientation=0,\n",
    "        xdensity=s.density,\n",
    "        ydensity=s.density,\n",
    "        size=s.size,\n",
    "        bounds=BoundingBox(\n",
    "            points=(\n",
    "                (-s.size_x / 2, -s.size_y / 2),\n",
    "                (s.size_x / 2, s.size_y / 2),\n",
    "            )\n",
    "        ),\n",
    "        scale=2 * s.background_luminance,\n",
    "        pattern_sampler=pattern_sampler,\n",
    "    )\n",
    "    return img()"
   ]
  },
  {
   "cell_type": "code",
   "execution_count": 7,
   "id": "474f2c3c-c6c5-4ca7-bff4-a99870d23839",
   "metadata": {},
   "outputs": [],
   "source": [
    "def get_sheetname(sheet):\n",
    "    if sheet == \"V1_Inh_L2/3\":\n",
    "        sheet = \"V1_Inh_L23\"\n",
    "    if sheet == \"V1_Exc_L2/3\":\n",
    "        sheet= \"V1_Exc_L23\"\n",
    "    return sheet"
   ]
  },
  {
   "cell_type": "code",
   "execution_count": 8,
   "id": "ba0607ea-2680-4fa8-bea4-f09cbeab6619",
   "metadata": {},
   "outputs": [],
   "source": [
    "# run export\n",
    "\n",
    "# path = sys.argv[1]\n",
    "# sheet = sys.argv[2]\n",
    "sheet = 'V1_Exc_L2/3'\n",
    "path = '/CSNG/baroni/mozaik-models/LSV1M/20240116-093251[param_nat_img.defaults]CombinationParamSearch{trial:[0],baseline:[0]}/NewDataset_Images_from_0_to_100_ParameterSearch_____baseline:0_trial:0'\n",
    "datastore = get_datastore(path)\n",
    "\n",
    "dsv = param_filter_query(datastore, st_name='NaturalImage')\n",
    "sheets = ['V1_Exc_L2/3', 'V1_Inh_L2/3', 'V1_Exc_L4', 'V1_Inh_L4', 'X_ON' 'X_OFF']\n",
    "sheet_folders  = ['V1_Exc_L23', 'V1_Inh_L23', 'V1_Exc_L4', 'V1_Inh_L4', 'X_ON' 'X_OFF']\n",
    "\n",
    "trials = sorted(list(set( MozaikParametrized.idd(s).trial for s in dsv.get_stimuli())))\n",
    "img_paths =  sorted(list(set(MozaikParametrized.idd(s).image_path for s in dsv.get_stimuli())))\n",
    "\n",
    "setup_logging()\n",
    "logger = mozaik.getMozaikLogger()"
   ]
  },
  {
   "cell_type": "code",
   "execution_count": 9,
   "id": "c3361eb6-3dc2-4420-a9be-4327c10b3b93",
   "metadata": {},
   "outputs": [
    {
     "name": "stdout",
     "output_type": "stream",
     "text": [
      "1\n"
     ]
    }
   ],
   "source": [
    "datastore\n",
    "print(len(trials))"
   ]
  },
  {
   "cell_type": "code",
   "execution_count": 18,
   "id": "e60ecdee-5675-4080-aaf3-210080b67105",
   "metadata": {},
   "outputs": [],
   "source": [
    "def get_segments(dsv):\n",
    "    \"\"\"\n",
    "    Retrieves segments for both blanks and images in chronological order as they \n",
    "    were presented in the experiments.\n",
    "    :param dsv: datastore containing data information.\n",
    "    :returns: Tuple of segments for blanks and images from `dsv`.\n",
    "    \"\"\"\n",
    "    segs_blank = dsv.get_segments(null=True,ordered=True)\n",
    "    segs_image = dsv.get_segments(ordered=True)\n",
    "\n",
    "    return segs_blank, segs_image"
   ]
  },
  {
   "cell_type": "code",
   "execution_count": 19,
   "id": "267d6bcc-b6da-4f59-8e3a-960266d55b6b",
   "metadata": {},
   "outputs": [],
   "source": [
    "def get_image_number(segment):\n",
    "    \"\"\"\n",
    "    Retrieves number of the image of the given segment.\n",
    "    :param segment: segment to obtain image information from.\n",
    "    :returns: Number of the image corresponding to segment.\n",
    "    \"\"\"\n",
    "    stimulus = MozaikParametrized.idd(segment.annotations['stimulus'])\n",
    "    return stimulus.image_path.split('/')[-1].split('_')[0]"
   ]
  },
  {
   "cell_type": "code",
   "execution_count": null,
   "id": "80e288f1-6a5d-4b73-b99d-884a2bc211ba",
   "metadata": {},
   "outputs": [],
   "source": [
    "def get_spike_times("
   ]
  },
  {
   "cell_type": "code",
   "execution_count": 29,
   "id": "0bdfc306-f0c2-4b72-88a2-b81bffffc24c",
   "metadata": {},
   "outputs": [],
   "source": [
    "def sort_spiketrains(spike_trains):\n",
    "    \n",
    "    def sorting_key(spike_train):\n",
    "        # Calculate the average firing rate for each SpikeTrain\n",
    "        return spike_train.annotations['source_id']\n",
    "    \n",
    "    # Sort the SpikeTrain objects based on the average firing rate\n",
    "    return sorted(spike_trains, key=sorting_key)"
   ]
  },
  {
   "cell_type": "code",
   "execution_count": 33,
   "id": "6a64f8b1-5765-4b09-b295-0329efd2869b",
   "metadata": {},
   "outputs": [
    {
     "name": "stdout",
     "output_type": "stream",
     "text": [
      "There is a single trial\n",
      "NEW TRIAL\n",
      "-------------------------------------------\n",
      "Image number: 0000000090\n",
      "\n",
      "<class 'list'>\n",
      "[array([], dtype=float64), array([35.8])]\n",
      "[array([], dtype=float64), array([515.6])]\n",
      "Neuron ID: 61286\n",
      "<class 'neo.core.spiketrain.SpikeTrain'>\n",
      "Blank spikes: [] ms\n",
      "Stimuli spikes: [] ms\n",
      "\n",
      "Neuron ID: 61287\n",
      "<class 'neo.core.spiketrain.SpikeTrain'>\n",
      "Blank spikes: [35.8] ms\n",
      "Stimuli spikes: [515.6] ms\n",
      "\n",
      "NEW TRIAL\n",
      "-------------------------------------------\n",
      "Image number: 0000000090\n",
      "\n",
      "<class 'list'>\n",
      "[array([], dtype=float64), array([], dtype=float64)]\n",
      "[array([175.8, 180.2, 216.8, 318.6]), array([], dtype=float64)]\n",
      "Neuron ID: 61286\n",
      "<class 'neo.core.spiketrain.SpikeTrain'>\n",
      "Blank spikes: [] ms\n",
      "Stimuli spikes: [175.8 180.2 216.8 318.6] ms\n",
      "\n",
      "Neuron ID: 61287\n",
      "<class 'neo.core.spiketrain.SpikeTrain'>\n",
      "Blank spikes: [] ms\n",
      "Stimuli spikes: [] ms\n",
      "\n"
     ]
    }
   ],
   "source": [
    "\n",
    "if len(trials) == 1:\n",
    "    print(f'There is a single trial')\n",
    "    dsv1 = param_filter_query(dsv, sheet_name = sheet)\n",
    "    for trial in trials:\n",
    "        dsv2 = param_filter_query(dsv1, st_trial = trial)\n",
    "        # segs_stimuli = dsv2.get_segments(ordered=True)\n",
    "        # segs_blank = dsv2.get_segments(null=True,ordered=True)\n",
    "\n",
    "        # Should be chronologically sorted segments.\n",
    "        segs_blank, segs_images = get_segments(dsv2)\n",
    "\n",
    "        segs_blank = segs_blank[0:2]\n",
    "        segs_stimuli = segs_images[0:2]\n",
    "        for seg_blank, seg_image in zip(segs_blank, segs_stimuli):\n",
    "            # stim_blank = MozaikParametrized.idd(seg_blank.annotations['stimulus'])  \n",
    "            # stim_stimuli = MozaikParametrized.idd(seg_stimuli.annotations['stimulus'])\n",
    "\n",
    "            # img_number_blank = stim_blank.image_path.split('/')[-1].split('_')[0]\n",
    "            # img_number_stimuli = stim_stimuli.image_path.split('/')[-1].split('_')[0]\n",
    "\n",
    "            # segs_stimuli[0].spiketrains[2].annotations['source_index']\n",
    "\n",
    "            image_number = get_image_number(seg_blank)\n",
    "            print(\"NEW TRIAL\")\n",
    "            print(\"-------------------------------------------\")\n",
    "            # print(stim_blank)\n",
    "            # print(stim_stimuli)\n",
    "            # print()\n",
    "            # print(img_number_blank)\n",
    "            print(f\"Image number: {img_number_stimuli}\")\n",
    "            print()\n",
    "\n",
    "            print(type(seg_blank.spiketrains))\n",
    "\n",
    "            sorted_blank_spiketrains = sort_spiketrains(seg_blank.spiketrains[0:2])\n",
    "            sorted_images_spiketrains = sort_spiketrains(seg_image.spiketrains[0:2])\n",
    "\n",
    "            blank_spiketrains = [np.array(st) for st in sorted_blank_spiketrains]\n",
    "            image_spiketrains = [np.array(st) for st in sorted_images_spiketrains]\n",
    "            print(blank_spiketrains)\n",
    "            print(image_spiketrains)\n",
    "            \n",
    "            for spikes_blank, spikes_stimuli in zip(\n",
    "                    sorted_blank_spiketrains,\n",
    "                    sorted_images_spiketrains\n",
    "                    #seg_blank.spiketrains[0:2],\n",
    "                    #seg_stimuli.spiketrains[0:2]\n",
    "                ):\n",
    "                print(f\"Neuron ID: {spikes_blank.annotations['source_id']}\")\n",
    "                print(type(spikes_blank))\n",
    "                print(f\"Blank spikes: {spikes_blank}\")\n",
    "                print(f\"Stimuli spikes: {spikes_stimuli}\")\n",
    "                # print(f\"Blank neuron: {spikes_stimuli.annotations['source_id']}\")\n",
    "                print()\n",
    "\n",
    "        \n",
    "        \n",
    "            # for seg in tqdm(segs):\n",
    "            #     stim = MozaikParametrized.idd(seg.annotations['stimulus'])\n",
    "                \n",
    "            #     img_number = stim.image_path.split('/')[-1].split('_')[0]\n",
    "            #     resp_path = os.path.join('/home/beinhaud', 'single_trial', img_number)\n",
    "            #     print(\"NEW TRIAL\")\n",
    "            #     print(seg)\n",
    "            #     resp = seg.mean_rates()\n",
    "            #     # print(resp.shape)\n",
    "    \n",
    "            #     gc.collect()\n",
    "                \n",
    "            #     os.makedirs(resp_path, exist_ok=True)\n",
    "            #     np.save(os.path.join(resp_path, get_sheetname(sheet) +'.npy'), resp)\n",
    "            #     if trial == 0:\n",
    "            #         if sheet == sheets[0]:\n",
    "            #             img = reconstruct_stimuli(stim)\n",
    "            #             np.save(os.path.join(resp_path, 'stimulus' +'.npy'), img)\n",
    "            #             gc.collect()\n",
    "\n",
    "        \n",
    "\n",
    "            # stims = dsv2.get_stimuli()\n",
    "            # stims_n = [MozaikParametrized.idd(st).image_path.split('/')[-1].split('_')[0] for st in stims]\n",
    "\n",
    "            # # needs to be fixed\n",
    "            # segs = [seg for _, seg in sorted(zip(stims_n, segs))]\n",
    "            \n",
    "            # gc.collect()\n",
    "            # resps = [s.mean_rates() for s in tqdm(segs)]\n",
    "            # gc.collect()\n",
    "            # for i, stim in enumerate(tqdm(stims)):\n",
    "            #     parametrized_stim = MozaikParametrized.idd(stim)\n",
    "            #     img_number = parametrized_stim.image_path.split('/')[-1].split('_')[0]\n",
    "            #     resp_path = os.path.join('/CSNG/baroni/test/', 'single_trial', img_number)\n",
    "            #     os.makedirs(resp_path, exist_ok=True)\n",
    "            #     np.save(os.path.join(resp_path, sf +'.npy'), resps[i])\n",
    "            #     if trial ==0:\n",
    "            #         if sheet == sheets[0]:\n",
    "            #             img = reconstruct_stimuli(parametrized_stim)\n",
    "            #             np.save(os.path.join(resp_path, 'stimulus' +'.npy'), img)\n",
    "            #             gc.collect()"
   ]
  },
  {
   "cell_type": "code",
   "execution_count": 27,
   "id": "b46e33e4-f79b-4ae1-9481-97acef8e7b36",
   "metadata": {},
   "outputs": [
    {
     "data": {
      "text/plain": [
       "SpikeTrain containing 0 spikes; units ms; datatype float64 \n",
       "annotations: {'source_population': 'V1_Exc_L2/3',\n",
       "  'source_id': 61287,\n",
       "  'source_index': 1,\n",
       "  'channel_id': 61287}\n",
       "time: 0.0 ms to 150.0 ms"
      ]
     },
     "execution_count": 27,
     "metadata": {},
     "output_type": "execute_result"
    }
   ],
   "source": [
    "spikes_blank.\n"
   ]
  },
  {
   "cell_type": "code",
   "execution_count": 11,
   "id": "d1a46ae9-f881-4818-a65c-a5a1761690c7",
   "metadata": {},
   "outputs": [
    {
     "data": {
      "text/plain": [
       "['{\"module_path\" :\"mozaik.stimuli.vision.topographica_based\",\"background_luminance\":50.0, \"blank_duration\":0.0, \"density\":20.0, \"direct_stimulation_name\":None, \"direct_stimulation_parameters\":None, \"duration\":560, \"frame_duration\":7.0, \"image_duration\":560.0, \"image_path\":\\'/projects/ImageDatasets/imagenet/all_imagenet_images/0000000069_n02093754_1901.JPEG\\', \"location_x\":0.0, \"location_y\":0.0, \"name\":\\'NaturalImage\\', \"size\":11, \"size_x\":11.0, \"size_y\":11.0, \"trial\":0}',\n",
       " '{\"module_path\" :\"mozaik.stimuli.vision.topographica_based\",\"background_luminance\":50.0, \"blank_duration\":0.0, \"density\":20.0, \"direct_stimulation_name\":None, \"direct_stimulation_parameters\":None, \"duration\":560, \"frame_duration\":7.0, \"image_duration\":560.0, \"image_path\":\\'/projects/ImageDatasets/imagenet/all_imagenet_images/0000000090_n02007558_12982.JPEG\\', \"location_x\":0.0, \"location_y\":0.0, \"name\":\\'NaturalImage\\', \"size\":11, \"size_x\":11.0, \"size_y\":11.0, \"trial\":0}']"
      ]
     },
     "execution_count": 11,
     "metadata": {},
     "output_type": "execute_result"
    }
   ],
   "source": [
    "dsv2.get_stimuli(ordered=True)[0:2]"
   ]
  },
  {
   "cell_type": "code",
   "execution_count": 12,
   "id": "860c7ad9-8644-47d6-89f5-aa32b70a24c6",
   "metadata": {},
   "outputs": [
    {
     "name": "stdout",
     "output_type": "stream",
     "text": [
      "2\n",
      "2\n"
     ]
    }
   ],
   "source": [
    "print(len(segs_stimuli))\n",
    "print(len(segs_blank))\n",
    "# print(segs_stimuli[0])\n",
    "# print(segs_blank[0])\n",
    "# segs_stimuli[0]"
   ]
  },
  {
   "cell_type": "code",
   "execution_count": 13,
   "id": "9be34d1f-0aa8-4928-9832-b38eb0995156",
   "metadata": {},
   "outputs": [
    {
     "data": {
      "text/plain": [
       "[SpikeTrain containing 0 spikes; units ms; datatype float64 \n",
       " annotations: {'source_population': 'V1_Exc_L2/3',\n",
       "   'source_id': 61286,\n",
       "   'source_index': 0,\n",
       "   'channel_id': 61286}\n",
       " time: 0.0 ms to 560.0 ms,\n",
       " SpikeTrain containing 1 spikes; units ms; datatype float64 \n",
       " annotations: {'source_population': 'V1_Exc_L2/3',\n",
       "   'source_id': 61287,\n",
       "   'source_index': 1,\n",
       "   'channel_id': 61287}\n",
       " time: 0.0 ms to 560.0 ms,\n",
       " SpikeTrain containing 2 spikes; units ms; datatype float64 \n",
       " annotations: {'source_population': 'V1_Exc_L2/3',\n",
       "   'source_id': 61288,\n",
       "   'source_index': 2,\n",
       "   'channel_id': 61288}\n",
       " time: 0.0 ms to 560.0 ms,\n",
       " SpikeTrain containing 0 spikes; units ms; datatype float64 \n",
       " annotations: {'source_population': 'V1_Exc_L2/3',\n",
       "   'source_id': 61289,\n",
       "   'source_index': 3,\n",
       "   'channel_id': 61289}\n",
       " time: 0.0 ms to 560.0 ms,\n",
       " SpikeTrain containing 0 spikes; units ms; datatype float64 \n",
       " annotations: {'source_population': 'V1_Exc_L2/3',\n",
       "   'source_id': 61290,\n",
       "   'source_index': 4,\n",
       "   'channel_id': 61290}\n",
       " time: 0.0 ms to 560.0 ms]"
      ]
     },
     "execution_count": 13,
     "metadata": {},
     "output_type": "execute_result"
    }
   ],
   "source": [
    "segs_stimuli[0].spiketrains[0:5]"
   ]
  },
  {
   "cell_type": "code",
   "execution_count": 14,
   "id": "c3065ab9-0746-4e6d-a461-adeceee586e1",
   "metadata": {},
   "outputs": [
    {
     "data": {
      "text/plain": [
       "[SpikeTrain containing 0 spikes; units ms; datatype float64 \n",
       " annotations: {'source_population': 'V1_Exc_L2/3',\n",
       "   'source_id': 61286,\n",
       "   'source_index': 0,\n",
       "   'channel_id': 61286}\n",
       " time: 0.0 ms to 150.0 ms,\n",
       " SpikeTrain containing 1 spikes; units ms; datatype float64 \n",
       " annotations: {'source_population': 'V1_Exc_L2/3',\n",
       "   'source_id': 61287,\n",
       "   'source_index': 1,\n",
       "   'channel_id': 61287}\n",
       " time: 0.0 ms to 150.0 ms,\n",
       " SpikeTrain containing 0 spikes; units ms; datatype float64 \n",
       " annotations: {'source_population': 'V1_Exc_L2/3',\n",
       "   'source_id': 61288,\n",
       "   'source_index': 2,\n",
       "   'channel_id': 61288}\n",
       " time: 0.0 ms to 150.0 ms,\n",
       " SpikeTrain containing 0 spikes; units ms; datatype float64 \n",
       " annotations: {'source_population': 'V1_Exc_L2/3',\n",
       "   'source_id': 61289,\n",
       "   'source_index': 3,\n",
       "   'channel_id': 61289}\n",
       " time: 0.0 ms to 150.0 ms,\n",
       " SpikeTrain containing 1 spikes; units ms; datatype float64 \n",
       " annotations: {'source_population': 'V1_Exc_L2/3',\n",
       "   'source_id': 61290,\n",
       "   'source_index': 4,\n",
       "   'channel_id': 61290}\n",
       " time: 0.0 ms to 150.0 ms]"
      ]
     },
     "execution_count": 14,
     "metadata": {},
     "output_type": "execute_result"
    }
   ],
   "source": [
    "segs_blank[0].spiketrains[0:5]"
   ]
  },
  {
   "cell_type": "code",
   "execution_count": 15,
   "id": "46c804e8-2181-4442-abec-00585911e763",
   "metadata": {},
   "outputs": [
    {
     "data": {
      "text/plain": [
       "array([272., 464.]) * ms"
      ]
     },
     "execution_count": 15,
     "metadata": {},
     "output_type": "execute_result"
    }
   ],
   "source": [
    "type(segs_stimuli[0].spiketrains)\n",
    "segs_stimuli[0].spiketrains[2].times"
   ]
  },
  {
   "cell_type": "code",
   "execution_count": 16,
   "id": "625e0686-1dfd-4248-8717-3a07930595cb",
   "metadata": {},
   "outputs": [
    {
     "data": {
      "text/plain": [
       "2"
      ]
     },
     "execution_count": 16,
     "metadata": {},
     "output_type": "execute_result"
    }
   ],
   "source": [
    "segs_stimuli[0].spiketrains[2].annotations['source_index']"
   ]
  },
  {
   "cell_type": "code",
   "execution_count": 17,
   "id": "a5a98779-4192-47ec-a322-4045804121ad",
   "metadata": {},
   "outputs": [
    {
     "data": {
      "text/plain": [
       "array([], dtype=float64) * ms"
      ]
     },
     "execution_count": 17,
     "metadata": {},
     "output_type": "execute_result"
    }
   ],
   "source": [
    "segs_blank[0].spiketrains[2].times"
   ]
  },
  {
   "cell_type": "code",
   "execution_count": null,
   "id": "3e4f34f4-d1be-4b9b-a5be-2ececf8162af",
   "metadata": {},
   "outputs": [],
   "source": []
  },
  {
   "cell_type": "code",
   "execution_count": null,
   "id": "86b85933-bf55-4a54-a535-1ad16c76f506",
   "metadata": {},
   "outputs": [],
   "source": [
    "# if len(trials) != 1:\n",
    "#     print(f'There are multiple trials ({len(trials)})')\n",
    "#     for sheet, sf in zip(sheets, sheet_folders):\n",
    "#         print(f'sheet={sheet}')\n",
    "#         dsv1 = param_filter_query(dsv, sheet_name = sheet)\n",
    "#         for trial in trials:\n",
    "#             print(f'trial={trial}')\n",
    "#             dsv2 = param_filter_query(dsv1, st_trial = trial)\n",
    "#             segs = dsv2.get_segments()\n",
    "#             stims = dsv2.get_stimuli()\n",
    "#             stims_n = [MozaikParametrized.idd(st).image_path.split('/')[-1].split('_')[0] for st in stims]\n",
    "#             segs = [seg for _, seg in sorted(zip(stims_n, segs))]\n",
    "\n",
    "#             gc.collect()\n",
    "#             resps = [s.mean_rates() for s in tqdm(segs)]\n",
    "#             gc.collect()\n",
    "#             for i, stim in enumerate(tqdm(stims)):\n",
    "#                 parametrized_stim = MozaikParametrized.idd(stim)\n",
    "#                 img_number = parametrized_stim.image_path.split('/')[-1].split('_')[0]\n",
    "#                 resp_path = os.path.join('/home/baroni/mozaik-models_v1paper/exported_data', 'multitrial', img_number)\n",
    "#                 resp_path_trial = os.path.join('/home/baroni/mozaik-models_v1paper/exported_data', 'multitrial', img_number, 'trial='+str(trial))\n",
    "#                 os.makedirs(resp_path_trial, exist_ok=True)\n",
    "#                 np.save(os.path.join(resp_path_trial, sf +'.npy'), resps[i])\n",
    "#                 if trial ==0:\n",
    "#                     if sheet == sheets[0]:\n",
    "#                         img = reconstruct_stimuli(parametrized_stim)\n",
    "#                         np.save(os.path.join(resp_path, 'stimulus' +'.npy'), img)\n",
    "#                         gc.collect()"
   ]
  },
  {
   "cell_type": "code",
   "execution_count": null,
   "id": "28a9b02c-f28d-4fc6-a0a9-82c6b8051c7b",
   "metadata": {},
   "outputs": [],
   "source": []
  },
  {
   "cell_type": "code",
   "execution_count": null,
   "id": "aefed71e-e281-4197-8844-031637489995",
   "metadata": {},
   "outputs": [],
   "source": []
  }
 ],
 "metadata": {
  "kernelspec": {
   "display_name": "Python 3 (ipykernel)",
   "language": "python",
   "name": "python3"
  },
  "language_info": {
   "codemirror_mode": {
    "name": "ipython",
    "version": 3
   },
   "file_extension": ".py",
   "mimetype": "text/x-python",
   "name": "python",
   "nbconvert_exporter": "python",
   "pygments_lexer": "ipython3",
   "version": "3.8.10"
  }
 },
 "nbformat": 4,
 "nbformat_minor": 5
}
