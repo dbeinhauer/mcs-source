{
 "cells": [
  {
   "cell_type": "code",
   "execution_count": 2,
   "id": "400f298b-a92b-4fa7-b37a-6a808278c3d5",
   "metadata": {},
   "outputs": [],
   "source": [
    "import sys\n",
    "from unicodedata import name\n",
    "from mozaik.controller import Global, setup_logging\n",
    "from mozaik.storage.datastore import PickledDataStore\n",
    "from parameters import ParameterSet\n",
    "from mozaik.storage.queries import param_filter_query\n",
    "import mozaik\n",
    "import os\n",
    "import gc\n",
    "import pickle\n",
    "import numpy as np\n",
    "from mozaik.tools.mozaik_parametrized import MozaikParametrized\n",
    "from tqdm import tqdm\n",
    "import logging\n",
    "import imagen \n",
    "from imagen.image import BoundingBox\n",
    "from mozaik.stimuli.vision.topographica_based import MaximumDynamicRange"
   ]
  },
  {
   "cell_type": "code",
   "execution_count": 3,
   "id": "660b95c0-8632-4105-8151-7b6bdfcd950d",
   "metadata": {},
   "outputs": [],
   "source": [
    "logging.basicConfig(stream=sys.stdout, level=logging.ERROR)\n"
   ]
  },
  {
   "cell_type": "code",
   "execution_count": 4,
   "id": "18d89ba0-5c1c-4a26-9b80-4a755ce099b6",
   "metadata": {},
   "outputs": [],
   "source": [
    "def get_datastore(root):\n",
    "    Global.root_directory = root\n",
    "    datastore = PickledDataStore(\n",
    "        load=True,\n",
    "        parameters=ParameterSet({\"root_directory\": root, \"store_stimuli\": False}),\n",
    "        replace=True,\n",
    "    )\n",
    "    return datastore\n"
   ]
  },
  {
   "cell_type": "code",
   "execution_count": 5,
   "id": "4c974f5f-5e4f-48fd-8c0a-782c4969725a",
   "metadata": {},
   "outputs": [],
   "source": [
    "def extract_images(path: str) -> str:\n",
    "    path = path.split(\"from_\")[1].split(\"_\")[0]\n",
    "    return path"
   ]
  },
  {
   "cell_type": "code",
   "execution_count": 6,
   "id": "0a61f719-240c-48aa-b29a-7f4815e59887",
   "metadata": {},
   "outputs": [],
   "source": [
    "def pickledump(path: str, file):\n",
    "    with open(path, \"wb\") as f:\n",
    "        pickle.dump(file, f)\n"
   ]
  },
  {
   "cell_type": "code",
   "execution_count": 7,
   "id": "ce6f0b0e-b5c7-4e46-8b65-79f7b69fe57b",
   "metadata": {},
   "outputs": [],
   "source": [
    "def reconstruct_stimuli(s):\n",
    "    pattern_sampler = imagen.image.PatternSampler(\n",
    "            size_normalization=\"fit_shortest\",\n",
    "            whole_pattern_output_fns=[MaximumDynamicRange()],\n",
    "        )\n",
    "\n",
    "    img = imagen.image.FileImage(\n",
    "        filename=s.image_path,\n",
    "        x=0,\n",
    "        y=0,\n",
    "        orientation=0,\n",
    "        xdensity=s.density,\n",
    "        ydensity=s.density,\n",
    "        size=s.size,\n",
    "        bounds=BoundingBox(\n",
    "            points=(\n",
    "                (-s.size_x / 2, -s.size_y / 2),\n",
    "                (s.size_x / 2, s.size_y / 2),\n",
    "            )\n",
    "        ),\n",
    "        scale=2 * s.background_luminance,\n",
    "        pattern_sampler=pattern_sampler,\n",
    "    )\n",
    "    return img()"
   ]
  },
  {
   "cell_type": "code",
   "execution_count": 8,
   "id": "474f2c3c-c6c5-4ca7-bff4-a99870d23839",
   "metadata": {},
   "outputs": [],
   "source": [
    "def get_sheetname(sheet: str):\n",
    "    \"\"\"\n",
    "    \"\"\"\n",
    "    if sheet == \"V1_Inh_L2/3\":\n",
    "        sheet = \"V1_Inh_L23\"\n",
    "    if sheet == \"V1_Exc_L2/3\":\n",
    "        sheet= \"V1_Exc_L23\"\n",
    "    return sheet"
   ]
  },
  {
   "cell_type": "code",
   "execution_count": 9,
   "id": "e60ecdee-5675-4080-aaf3-210080b67105",
   "metadata": {},
   "outputs": [],
   "source": [
    "def get_segments(dsv):\n",
    "    \"\"\"\n",
    "    Retrieves segments for both blanks and images in chronological order as they \n",
    "    were presented in the experiments.\n",
    "    :param dsv: datastore containing data information.\n",
    "    :returns: Two objects of segments for blanks and images from `dsv`.\n",
    "    \"\"\"\n",
    "    segs_blank = dsv.get_segments(null=True,ordered=True)\n",
    "    segs_image = dsv.get_segments(ordered=True)\n",
    "\n",
    "    return segs_blank, segs_image"
   ]
  },
  {
   "cell_type": "code",
   "execution_count": 10,
   "id": "267d6bcc-b6da-4f59-8e3a-960266d55b6b",
   "metadata": {},
   "outputs": [],
   "source": [
    "def get_image_id(segment) -> str:\n",
    "    \"\"\"\n",
    "    Retrieves index of the image of the given segment.\n",
    "    :param segment: segment to obtain image information from.\n",
    "    :returns: id of the image corresponding to segment.\n",
    "    \"\"\"\n",
    "    stimulus = MozaikParametrized.idd(segment.annotations['stimulus'])\n",
    "    return stimulus.image_path.split('/')[-1].split('_')[0]"
   ]
  },
  {
   "cell_type": "code",
   "execution_count": null,
   "id": "80e288f1-6a5d-4b73-b99d-884a2bc211ba",
   "metadata": {},
   "outputs": [],
   "source": []
  },
  {
   "cell_type": "code",
   "execution_count": 11,
   "id": "0bdfc306-f0c2-4b72-88a2-b81bffffc24c",
   "metadata": {},
   "outputs": [],
   "source": [
    "def sort_spiketrains(spike_trains):\n",
    "    \"\"\"\n",
    "    Sort based on the neuron ID.\n",
    "    \"\"\"\n",
    "    def sorting_key(spike_train):\n",
    "        # Calculate the average firing rate for each SpikeTrain\n",
    "        return spike_train.annotations['source_id']\n",
    "    \n",
    "    return sorted(spike_trains, key=sorting_key)"
   ]
  },
  {
   "cell_type": "code",
   "execution_count": 12,
   "id": "862024ab-db8d-4eb5-bfa3-0961992a34fc",
   "metadata": {},
   "outputs": [],
   "source": [
    "def get_neurons_info(sorted_segment) -> (int, dict):\n",
    "    \"\"\"\n",
    "    Retrieve information about number of neurons and create mapping dictionary of neuron indices.\n",
    "    :param sorted_segment: segment to retrieve information from.\n",
    "    :returns: total number of neurons and mapping dictionary of original neuron indices to the new one.\n",
    "    \"\"\"\n",
    "    index_mapping = {neuron.annotations['source_id']: i for i, neuron in enumerate(sorted_segment.spiketrains)}\n",
    "    return len(sorted_segment.spiketrains), index_mapping"
   ]
  },
  {
   "cell_type": "code",
   "execution_count": 13,
   "id": "4a6dfca1-9e67-46dc-af4c-72454680d240",
   "metadata": {},
   "outputs": [],
   "source": [
    "def get_segment_duration(segment) -> int:\n",
    "    \"\"\"\n",
    "    Retrieve duration of the segment.\n",
    "    :param segment: segment to get duration from.\n",
    "    :returns: duration of the segment in ms.\n",
    "    \"\"\"\n",
    "    return int(segment.spiketrains[0].duration) + 1"
   ]
  },
  {
   "cell_type": "code",
   "execution_count": 14,
   "id": "ba0607ea-2680-4fa8-bea4-f09cbeab6619",
   "metadata": {},
   "outputs": [],
   "source": [
    "# run export\n",
    "\n",
    "# path = sys.argv[1]\n",
    "# sheet = sys.argv[2]\n",
    "# sheet = 'V1_Exc_L2/3'\n",
    "# path = '/CSNG/baroni/mozaik-models/LSV1M/20240116-093251[param_nat_img.defaults]CombinationParamSearch{trial:[0],baseline:[0]}/NewDataset_Images_from_0_to_100_ParameterSearch_____baseline:0_trial:0'\n",
    "# datastore = get_datastore(path)\n",
    "\n",
    "# dsv = param_filter_query(datastore, st_name='NaturalImage')\n",
    "# sheets = ['V1_Exc_L2/3', 'V1_Inh_L2/3', 'V1_Exc_L4', 'V1_Inh_L4', 'X_ON' 'X_OFF']\n",
    "# sheet_folders  = ['V1_Exc_L23', 'V1_Inh_L23', 'V1_Exc_L4', 'V1_Inh_L4', 'X_ON' 'X_OFF']\n",
    "\n",
    "\n",
    "# trials = sorted(list(set( MozaikParametrized.idd(s).trial for s in dsv.get_stimuli())))\n",
    "# img_paths =  sorted(list(set(MozaikParametrized.idd(s).image_path for s in dsv.get_stimuli())))\n",
    "\n",
    "# setup_logging()\n",
    "# logger = mozaik.getMozaikLogger()"
   ]
  },
  {
   "cell_type": "code",
   "execution_count": 15,
   "id": "c3361eb6-3dc2-4420-a9be-4327c10b3b93",
   "metadata": {},
   "outputs": [
    {
     "ename": "NameError",
     "evalue": "name 'datastore' is not defined",
     "output_type": "error",
     "traceback": [
      "\u001b[0;31m---------------------------------------------------------------------------\u001b[0m",
      "\u001b[0;31mNameError\u001b[0m                                 Traceback (most recent call last)",
      "Cell \u001b[0;32mIn[15], line 1\u001b[0m\n\u001b[0;32m----> 1\u001b[0m \u001b[43mdatastore\u001b[49m\n\u001b[1;32m      2\u001b[0m \u001b[38;5;28mprint\u001b[39m(\u001b[38;5;28mlen\u001b[39m(trials))\n",
      "\u001b[0;31mNameError\u001b[0m: name 'datastore' is not defined"
     ]
    }
   ],
   "source": [
    "datastore\n",
    "print(len(trials))"
   ]
  },
  {
   "cell_type": "code",
   "execution_count": 17,
   "id": "6a64f8b1-5765-4b09-b295-0329efd2869b",
   "metadata": {},
   "outputs": [
    {
     "ename": "KeyboardInterrupt",
     "evalue": "",
     "output_type": "error",
     "traceback": [
      "\u001b[0;31m---------------------------------------------------------------------------\u001b[0m",
      "\u001b[0;31mKeyboardInterrupt\u001b[0m                         Traceback (most recent call last)",
      "Cell \u001b[0;32mIn[17], line 10\u001b[0m\n\u001b[1;32m      7\u001b[0m path \u001b[38;5;241m=\u001b[39m \u001b[38;5;124m'\u001b[39m\u001b[38;5;124m/CSNG/baroni/mozaik-models/LSV1M/20240116-093251[param_nat_img.defaults]CombinationParamSearch\u001b[39m\u001b[38;5;124m{\u001b[39m\u001b[38;5;124mtrial:[0],baseline:[0]}/NewDataset_Images_from_0_to_100_ParameterSearch_____baseline:0_trial:0\u001b[39m\u001b[38;5;124m'\u001b[39m\n\u001b[1;32m      8\u001b[0m dsv \u001b[38;5;241m=\u001b[39m get_datastore(path)\n\u001b[0;32m---> 10\u001b[0m dsv \u001b[38;5;241m=\u001b[39m \u001b[43mparam_filter_query\u001b[49m\u001b[43m(\u001b[49m\u001b[43mdsv\u001b[49m\u001b[43m,\u001b[49m\u001b[43m \u001b[49m\u001b[43mst_name\u001b[49m\u001b[38;5;241;43m=\u001b[39;49m\u001b[38;5;124;43m'\u001b[39;49m\u001b[38;5;124;43mNaturalImage\u001b[39;49m\u001b[38;5;124;43m'\u001b[39;49m\u001b[43m)\u001b[49m\n\u001b[1;32m     11\u001b[0m sheets \u001b[38;5;241m=\u001b[39m [\u001b[38;5;124m'\u001b[39m\u001b[38;5;124mV1_Exc_L2/3\u001b[39m\u001b[38;5;124m'\u001b[39m, \u001b[38;5;124m'\u001b[39m\u001b[38;5;124mV1_Inh_L2/3\u001b[39m\u001b[38;5;124m'\u001b[39m, \u001b[38;5;124m'\u001b[39m\u001b[38;5;124mV1_Exc_L4\u001b[39m\u001b[38;5;124m'\u001b[39m, \u001b[38;5;124m'\u001b[39m\u001b[38;5;124mV1_Inh_L4\u001b[39m\u001b[38;5;124m'\u001b[39m, \u001b[38;5;124m'\u001b[39m\u001b[38;5;124mX_ON\u001b[39m\u001b[38;5;124m'\u001b[39m \u001b[38;5;124m'\u001b[39m\u001b[38;5;124mX_OFF\u001b[39m\u001b[38;5;124m'\u001b[39m]\n\u001b[1;32m     12\u001b[0m sheet_folders  \u001b[38;5;241m=\u001b[39m [\u001b[38;5;124m'\u001b[39m\u001b[38;5;124mV1_Exc_L23\u001b[39m\u001b[38;5;124m'\u001b[39m, \u001b[38;5;124m'\u001b[39m\u001b[38;5;124mV1_Inh_L23\u001b[39m\u001b[38;5;124m'\u001b[39m, \u001b[38;5;124m'\u001b[39m\u001b[38;5;124mV1_Exc_L4\u001b[39m\u001b[38;5;124m'\u001b[39m, \u001b[38;5;124m'\u001b[39m\u001b[38;5;124mV1_Inh_L4\u001b[39m\u001b[38;5;124m'\u001b[39m, \u001b[38;5;124m'\u001b[39m\u001b[38;5;124mX_ON\u001b[39m\u001b[38;5;124m'\u001b[39m \u001b[38;5;124m'\u001b[39m\u001b[38;5;124mX_OFF\u001b[39m\u001b[38;5;124m'\u001b[39m]\n",
      "File \u001b[0;32m~/virt_env/mozaik/lib/python3.8/site-packages/mozaik-0.1.0-py3.8.egg/mozaik/storage/queries.py:89\u001b[0m, in \u001b[0;36mparam_filter_query\u001b[0;34m(dsv, ads_unique, rec_unique, **kwargs)\u001b[0m\n\u001b[1;32m     86\u001b[0m st_kwargs \u001b[38;5;241m=\u001b[39m \u001b[38;5;28mdict\u001b[39m([(k[\u001b[38;5;241m3\u001b[39m:],kwargs[k]) \u001b[38;5;28;01mfor\u001b[39;00m k \u001b[38;5;129;01min\u001b[39;00m kwargs\u001b[38;5;241m.\u001b[39mkeys() \u001b[38;5;28;01mif\u001b[39;00m k[\u001b[38;5;241m0\u001b[39m:\u001b[38;5;241m3\u001b[39m] \u001b[38;5;241m==\u001b[39m \u001b[38;5;124m'\u001b[39m\u001b[38;5;124mst_\u001b[39m\u001b[38;5;124m'\u001b[39m])\n\u001b[1;32m     87\u001b[0m kwargs \u001b[38;5;241m=\u001b[39m \u001b[38;5;28mdict\u001b[39m([(k,kwargs[k]) \u001b[38;5;28;01mfor\u001b[39;00m k \u001b[38;5;129;01min\u001b[39;00m kwargs\u001b[38;5;241m.\u001b[39mkeys() \u001b[38;5;28;01mif\u001b[39;00m k[\u001b[38;5;241m0\u001b[39m:\u001b[38;5;241m3\u001b[39m] \u001b[38;5;241m!=\u001b[39m \u001b[38;5;124m'\u001b[39m\u001b[38;5;124mst_\u001b[39m\u001b[38;5;124m'\u001b[39m])\n\u001b[0;32m---> 89\u001b[0m seg_st \u001b[38;5;241m=\u001b[39m [MozaikParametrized\u001b[38;5;241m.\u001b[39midd(seg\u001b[38;5;241m.\u001b[39mannotations[\u001b[38;5;124m'\u001b[39m\u001b[38;5;124mstimulus\u001b[39m\u001b[38;5;124m'\u001b[39m]) \u001b[38;5;28;01mfor\u001b[39;00m seg \u001b[38;5;129;01min\u001b[39;00m dsv\u001b[38;5;241m.\u001b[39mblock\u001b[38;5;241m.\u001b[39msegments]\n\u001b[1;32m     90\u001b[0m ads_st \u001b[38;5;241m=\u001b[39m [MozaikParametrized\u001b[38;5;241m.\u001b[39midd(ads\u001b[38;5;241m.\u001b[39mstimulus_id) \u001b[38;5;28;01mfor\u001b[39;00m ads \u001b[38;5;129;01min\u001b[39;00m dsv\u001b[38;5;241m.\u001b[39manalysis_results \u001b[38;5;28;01mif\u001b[39;00m ads\u001b[38;5;241m.\u001b[39mstimulus_id \u001b[38;5;241m!=\u001b[39m \u001b[38;5;28;01mNone\u001b[39;00m]\n\u001b[1;32m     91\u001b[0m \u001b[38;5;28;01mif\u001b[39;00m \u001b[38;5;124m'\u001b[39m\u001b[38;5;124msheet_name\u001b[39m\u001b[38;5;124m'\u001b[39m \u001b[38;5;129;01min\u001b[39;00m \u001b[38;5;28mset\u001b[39m(kwargs):\n",
      "File \u001b[0;32m~/virt_env/mozaik/lib/python3.8/site-packages/mozaik-0.1.0-py3.8.egg/mozaik/storage/queries.py:89\u001b[0m, in \u001b[0;36m<listcomp>\u001b[0;34m(.0)\u001b[0m\n\u001b[1;32m     86\u001b[0m st_kwargs \u001b[38;5;241m=\u001b[39m \u001b[38;5;28mdict\u001b[39m([(k[\u001b[38;5;241m3\u001b[39m:],kwargs[k]) \u001b[38;5;28;01mfor\u001b[39;00m k \u001b[38;5;129;01min\u001b[39;00m kwargs\u001b[38;5;241m.\u001b[39mkeys() \u001b[38;5;28;01mif\u001b[39;00m k[\u001b[38;5;241m0\u001b[39m:\u001b[38;5;241m3\u001b[39m] \u001b[38;5;241m==\u001b[39m \u001b[38;5;124m'\u001b[39m\u001b[38;5;124mst_\u001b[39m\u001b[38;5;124m'\u001b[39m])\n\u001b[1;32m     87\u001b[0m kwargs \u001b[38;5;241m=\u001b[39m \u001b[38;5;28mdict\u001b[39m([(k,kwargs[k]) \u001b[38;5;28;01mfor\u001b[39;00m k \u001b[38;5;129;01min\u001b[39;00m kwargs\u001b[38;5;241m.\u001b[39mkeys() \u001b[38;5;28;01mif\u001b[39;00m k[\u001b[38;5;241m0\u001b[39m:\u001b[38;5;241m3\u001b[39m] \u001b[38;5;241m!=\u001b[39m \u001b[38;5;124m'\u001b[39m\u001b[38;5;124mst_\u001b[39m\u001b[38;5;124m'\u001b[39m])\n\u001b[0;32m---> 89\u001b[0m seg_st \u001b[38;5;241m=\u001b[39m [\u001b[43mMozaikParametrized\u001b[49m\u001b[38;5;241;43m.\u001b[39;49m\u001b[43midd\u001b[49m\u001b[43m(\u001b[49m\u001b[43mseg\u001b[49m\u001b[38;5;241;43m.\u001b[39;49m\u001b[43mannotations\u001b[49m\u001b[43m[\u001b[49m\u001b[38;5;124;43m'\u001b[39;49m\u001b[38;5;124;43mstimulus\u001b[39;49m\u001b[38;5;124;43m'\u001b[39;49m\u001b[43m]\u001b[49m\u001b[43m)\u001b[49m \u001b[38;5;28;01mfor\u001b[39;00m seg \u001b[38;5;129;01min\u001b[39;00m dsv\u001b[38;5;241m.\u001b[39mblock\u001b[38;5;241m.\u001b[39msegments]\n\u001b[1;32m     90\u001b[0m ads_st \u001b[38;5;241m=\u001b[39m [MozaikParametrized\u001b[38;5;241m.\u001b[39midd(ads\u001b[38;5;241m.\u001b[39mstimulus_id) \u001b[38;5;28;01mfor\u001b[39;00m ads \u001b[38;5;129;01min\u001b[39;00m dsv\u001b[38;5;241m.\u001b[39manalysis_results \u001b[38;5;28;01mif\u001b[39;00m ads\u001b[38;5;241m.\u001b[39mstimulus_id \u001b[38;5;241m!=\u001b[39m \u001b[38;5;28;01mNone\u001b[39;00m]\n\u001b[1;32m     91\u001b[0m \u001b[38;5;28;01mif\u001b[39;00m \u001b[38;5;124m'\u001b[39m\u001b[38;5;124msheet_name\u001b[39m\u001b[38;5;124m'\u001b[39m \u001b[38;5;129;01min\u001b[39;00m \u001b[38;5;28mset\u001b[39m(kwargs):\n",
      "File \u001b[0;32m~/virt_env/mozaik/lib/python3.8/site-packages/mozaik-0.1.0-py3.8.egg/mozaik/tools/mozaik_parametrized.py:291\u001b[0m, in \u001b[0;36mMozaikParametrized.idd\u001b[0;34m(cls, obj)\u001b[0m\n\u001b[1;32m    288\u001b[0m \u001b[38;5;28mcls\u001b[39m \u001b[38;5;241m=\u001b[39m \u001b[38;5;28mgetattr\u001b[39m(z,name)\n\u001b[1;32m    290\u001b[0m obj \u001b[38;5;241m=\u001b[39m \u001b[38;5;28mcls\u001b[39m\u001b[38;5;241m.\u001b[39m\u001b[38;5;21m__new__\u001b[39m(\u001b[38;5;28mcls\u001b[39m,\u001b[38;5;241m*\u001b[39m\u001b[38;5;241m*\u001b[39mparams)\n\u001b[0;32m--> 291\u001b[0m \u001b[43mMozaikParametrized\u001b[49m\u001b[38;5;241;43m.\u001b[39;49m\u001b[38;5;21;43m__init__\u001b[39;49m\u001b[43m(\u001b[49m\u001b[43mobj\u001b[49m\u001b[43m,\u001b[49m\u001b[38;5;241;43m*\u001b[39;49m\u001b[38;5;241;43m*\u001b[39;49m\u001b[43mparams\u001b[49m\u001b[43m)\u001b[49m\n\u001b[1;32m    292\u001b[0m \u001b[38;5;28;01mreturn\u001b[39;00m obj\n",
      "File \u001b[0;32m~/virt_env/mozaik/lib/python3.8/site-packages/mozaik-0.1.0-py3.8.egg/mozaik/tools/mozaik_parametrized.py:122\u001b[0m, in \u001b[0;36mMozaikParametrized.__init__\u001b[0;34m(self, **params)\u001b[0m\n\u001b[1;32m    119\u001b[0m \u001b[38;5;28;01mdef\u001b[39;00m \u001b[38;5;21m__init__\u001b[39m(\u001b[38;5;28mself\u001b[39m, \u001b[38;5;241m*\u001b[39m\u001b[38;5;241m*\u001b[39mparams):\n\u001b[1;32m    121\u001b[0m     \u001b[38;5;28mself\u001b[39m\u001b[38;5;241m.\u001b[39mcached_get_param_values \u001b[38;5;241m=\u001b[39m \u001b[38;5;28;01mNone\u001b[39;00m\n\u001b[0;32m--> 122\u001b[0m     \u001b[43mParameterized\u001b[49m\u001b[38;5;241;43m.\u001b[39;49m\u001b[38;5;21;43m__init__\u001b[39;49m\u001b[43m(\u001b[49m\u001b[38;5;28;43mself\u001b[39;49m\u001b[43m,\u001b[49m\u001b[43m \u001b[49m\u001b[38;5;241;43m*\u001b[39;49m\u001b[38;5;241;43m*\u001b[39;49m\u001b[43mparams\u001b[49m\u001b[43m)\u001b[49m\n\u001b[1;32m    123\u001b[0m     \u001b[38;5;28mself\u001b[39m\u001b[38;5;241m.\u001b[39mmodule_path \u001b[38;5;241m=\u001b[39m inspect\u001b[38;5;241m.\u001b[39mgetmodule(\u001b[38;5;28mself\u001b[39m)\u001b[38;5;241m.\u001b[39m\u001b[38;5;18m__name__\u001b[39m\n\u001b[1;32m    124\u001b[0m     \u001b[38;5;28mself\u001b[39m\u001b[38;5;241m.\u001b[39mname \u001b[38;5;241m=\u001b[39m \u001b[38;5;28mself\u001b[39m\u001b[38;5;241m.\u001b[39m\u001b[38;5;18m__class__\u001b[39m\u001b[38;5;241m.\u001b[39m\u001b[38;5;18m__name__\u001b[39m\n",
      "File \u001b[0;32m~/virt_env/mozaik/lib/python3.8/site-packages/param/parameterized.py:1041\u001b[0m, in \u001b[0;36mParameterized.__init__\u001b[0;34m(self, **params)\u001b[0m\n\u001b[1;32m   1037\u001b[0m \u001b[38;5;28mself\u001b[39m\u001b[38;5;241m.\u001b[39minitialized\u001b[38;5;241m=\u001b[39m\u001b[38;5;28;01mFalse\u001b[39;00m\n\u001b[1;32m   1039\u001b[0m \u001b[38;5;28mself\u001b[39m\u001b[38;5;241m.\u001b[39m__generate_name()\n\u001b[0;32m-> 1041\u001b[0m \u001b[38;5;28;43mself\u001b[39;49m\u001b[38;5;241;43m.\u001b[39;49m\u001b[43m_setup_params\u001b[49m\u001b[43m(\u001b[49m\u001b[38;5;241;43m*\u001b[39;49m\u001b[38;5;241;43m*\u001b[39;49m\u001b[43mparams\u001b[49m\u001b[43m)\u001b[49m\n\u001b[1;32m   1042\u001b[0m object_count \u001b[38;5;241m+\u001b[39m\u001b[38;5;241m=\u001b[39m \u001b[38;5;241m1\u001b[39m\n\u001b[1;32m   1044\u001b[0m \u001b[38;5;28mself\u001b[39m\u001b[38;5;241m.\u001b[39minitialized\u001b[38;5;241m=\u001b[39m\u001b[38;5;28;01mTrue\u001b[39;00m\n",
      "File \u001b[0;32m~/virt_env/mozaik/lib/python3.8/site-packages/param/parameterized.py:978\u001b[0m, in \u001b[0;36mas_uninitialized.<locals>.override_initialization\u001b[0;34m(parameterized_instance, *args, **kw)\u001b[0m\n\u001b[1;32m    976\u001b[0m original_initialized\u001b[38;5;241m=\u001b[39mparameterized_instance\u001b[38;5;241m.\u001b[39minitialized\n\u001b[1;32m    977\u001b[0m parameterized_instance\u001b[38;5;241m.\u001b[39minitialized\u001b[38;5;241m=\u001b[39m\u001b[38;5;28;01mFalse\u001b[39;00m\n\u001b[0;32m--> 978\u001b[0m \u001b[43mfn\u001b[49m\u001b[43m(\u001b[49m\u001b[43mparameterized_instance\u001b[49m\u001b[43m,\u001b[49m\u001b[38;5;241;43m*\u001b[39;49m\u001b[43margs\u001b[49m\u001b[43m,\u001b[49m\u001b[38;5;241;43m*\u001b[39;49m\u001b[38;5;241;43m*\u001b[39;49m\u001b[43mkw\u001b[49m\u001b[43m)\u001b[49m\n\u001b[1;32m    979\u001b[0m parameterized_instance\u001b[38;5;241m.\u001b[39minitialized\u001b[38;5;241m=\u001b[39moriginal_initialized\n",
      "File \u001b[0;32m~/virt_env/mozaik/lib/python3.8/site-packages/param/parameterized.py:1437\u001b[0m, in \u001b[0;36mParameterized._setup_params\u001b[0;34m(self, **params)\u001b[0m\n\u001b[1;32m   1435\u001b[0m \u001b[38;5;66;03m## keyword arg setting\u001b[39;00m\n\u001b[1;32m   1436\u001b[0m \u001b[38;5;28;01mfor\u001b[39;00m name,val \u001b[38;5;129;01min\u001b[39;00m params\u001b[38;5;241m.\u001b[39mitems():\n\u001b[0;32m-> 1437\u001b[0m     desc \u001b[38;5;241m=\u001b[39m \u001b[38;5;28;43mself\u001b[39;49m\u001b[38;5;241;43m.\u001b[39;49m\u001b[38;5;18;43m__class__\u001b[39;49m\u001b[38;5;241;43m.\u001b[39;49m\u001b[43mget_param_descriptor\u001b[49m\u001b[43m(\u001b[49m\u001b[43mname\u001b[49m\u001b[43m)\u001b[49m[\u001b[38;5;241m0\u001b[39m] \u001b[38;5;66;03m# pylint: disable-msg=E1101\u001b[39;00m\n\u001b[1;32m   1438\u001b[0m     \u001b[38;5;28;01mif\u001b[39;00m \u001b[38;5;129;01mnot\u001b[39;00m desc:\n\u001b[1;32m   1439\u001b[0m         \u001b[38;5;28mself\u001b[39m\u001b[38;5;241m.\u001b[39mwarning(\u001b[38;5;124m\"\u001b[39m\u001b[38;5;124mSetting non-parameter attribute \u001b[39m\u001b[38;5;132;01m%s\u001b[39;00m\u001b[38;5;124m=\u001b[39m\u001b[38;5;132;01m%s\u001b[39;00m\u001b[38;5;124m using a mechanism intended only for parameters\u001b[39m\u001b[38;5;124m\"\u001b[39m,name,val)\n",
      "File \u001b[0;32m~/virt_env/mozaik/lib/python3.8/site-packages/param/parameterized.py:799\u001b[0m, in \u001b[0;36mParameterizedMetaclass.get_param_descriptor\u001b[0;34m(mcs, param_name)\u001b[0m\n\u001b[1;32m    797\u001b[0m classes \u001b[38;5;241m=\u001b[39m classlist(mcs)\n\u001b[1;32m    798\u001b[0m \u001b[38;5;28;01mfor\u001b[39;00m c \u001b[38;5;129;01min\u001b[39;00m classes[::\u001b[38;5;241m-\u001b[39m\u001b[38;5;241m1\u001b[39m]:\n\u001b[0;32m--> 799\u001b[0m     attribute \u001b[38;5;241m=\u001b[39m \u001b[43mc\u001b[49m\u001b[38;5;241;43m.\u001b[39;49m\u001b[38;5;18;43m__dict__\u001b[39;49m\u001b[38;5;241;43m.\u001b[39;49m\u001b[43mget\u001b[49m\u001b[43m(\u001b[49m\u001b[43mparam_name\u001b[49m\u001b[43m)\u001b[49m\n\u001b[1;32m    800\u001b[0m     \u001b[38;5;28;01mif\u001b[39;00m \u001b[38;5;28misinstance\u001b[39m(attribute,Parameter):\n\u001b[1;32m    801\u001b[0m         \u001b[38;5;28;01mreturn\u001b[39;00m attribute,c\n",
      "\u001b[0;31mKeyboardInterrupt\u001b[0m: "
     ]
    }
   ],
   "source": [
    "datastore = None\n",
    "# run export\n",
    "\n",
    "# path = sys.argv[1]\n",
    "# sheet = sys.argv[2]\n",
    "sheet = 'V1_Exc_L2/3'\n",
    "path = '/CSNG/baroni/mozaik-models/LSV1M/20240116-093251[param_nat_img.defaults]CombinationParamSearch{trial:[0],baseline:[0]}/NewDataset_Images_from_0_to_100_ParameterSearch_____baseline:0_trial:0'\n",
    "dsv = get_datastore(path)\n",
    "\n",
    "dsv = param_filter_query(dsv, st_name='NaturalImage')\n",
    "sheets = ['V1_Exc_L2/3', 'V1_Inh_L2/3', 'V1_Exc_L4', 'V1_Inh_L4', 'X_ON' 'X_OFF']\n",
    "sheet_folders  = ['V1_Exc_L23', 'V1_Inh_L23', 'V1_Exc_L4', 'V1_Inh_L4', 'X_ON' 'X_OFF']\n",
    "\n",
    "\n",
    "trials = sorted(list(set( MozaikParametrized.idd(s).trial for s in dsv.get_stimuli())))\n",
    "img_paths =  sorted(list(set(MozaikParametrized.idd(s).image_path for s in dsv.get_stimuli())))\n",
    "\n",
    "setup_logging()\n",
    "logger = mozaik.getMozaikLogger()\n",
    "# \n",
    "\n",
    "\n",
    "images_id_list = []\n",
    "images_mapping = {}\n",
    "num_neurons = 0\n",
    "index_mapping = None\n",
    "num_images = 0\n",
    "blank_duration = 0\n",
    "image_duration = 0\n",
    "\n",
    "blank_spikes = None\n",
    "image_spikes = None\n",
    "\n",
    "if len(trials) == 1:\n",
    "    print(f'There is a single trial')\n",
    "    dsv = param_filter_query(dsv, sheet_name = sheet)\n",
    "    for trial in trials:\n",
    "        dsv = param_filter_query(dsv, st_trial = trial)\n",
    "\n",
    "        # Should be chronologically sorted segments.\n",
    "        segs_blank, segs_images = get_segments(dsv)\n",
    "\n",
    "        dsv = None\n",
    "        \n",
    "        num_images = len(segs_blank)\n",
    "        print(num_images)\n",
    "\n",
    "\n",
    "        # Take just subset of the segments (for testing)\n",
    "        # segs_blank = segs_blank[0:2]\n",
    "        # segs_images = segs_images[0:2]\n",
    "\n",
    "        if blank_spikes is None:\n",
    "            num_neurons, index_mapping = get_neurons_info(segs_blank[0])\n",
    "            blank_duration = get_segment_duration(segs_blank[0])\n",
    "            image_duration = get_segment_duration(segs_images[0])\n",
    "            blank_spikes = np.zeros((num_images, num_neurons, blank_duration), dtype=np.uint8)\n",
    "            image_spikes = np.zeros((num_images, num_neurons, image_duration), dtype=np.uint8)\n",
    "\n",
    "\n",
    "        # Iterate pairs blank->image (in this order)\n",
    "        # Note: They are order chronologically (in correct order).\n",
    "        for img_id, (seg_blank, seg_image) in enumerate(zip(segs_blank, segs_images)):\n",
    "\n",
    "            # Get Image Index\n",
    "            image_id = get_image_id(seg_blank)\n",
    "            print(\"NEW TRIAL\")\n",
    "            print(\"-------------------------------------------\")\n",
    "            print(f\"Image number: {image_id}\")\n",
    "            print()\n",
    "\n",
    "            # images_id_list.append(image_id)\n",
    "            # images_mapping[image_id] = img_id\n",
    "\n",
    "            # Sort Neurons by its IDs\n",
    "            # sorted_blank_spiketrains = sort_spiketrains(seg_blank.spiketrains[0:2])\n",
    "            # sorted_images_spiketrains = sort_spiketrains(seg_image.spiketrains[0:2])\n",
    "\n",
    "            # for blank, image in zip(seg_blank.spiketrains, seg_image.spiketrains):\n",
    "            #     pass\n",
    "\n",
    "            # gc.collect()\n",
    "            #     # print(blank)\n",
    "            # sorted_blank_spiketrains = seg_blank.spiketrains[0:2]\n",
    "            # sorted_images_spiketrains = seg_image.spiketrains[0:2]\n",
    "\n",
    "            \n",
    "            # Get ID of the neuron, its spike times, and duration of the image presentation.\n",
    "            for spikes_blank, spikes_image in zip(\n",
    "                    # sorted_blank_spiketrains,\n",
    "                    # sorted_images_spiketrains\n",
    "                    seg_blank.spiketrains, \n",
    "                    seg_image.spiketrains\n",
    "                ):\n",
    "\n",
    "                neuron_id = spikes_blank.annotations['source_id']\n",
    "                # print(spikes_blank.times.astype(int))\n",
    "\n",
    "                # print(spikes_image.times.astype(int))\n",
    "                blank_spikes[img_id, index_mapping[neuron_id], spikes_blank.times.astype(int)] += 1\n",
    "                image_spikes[img_id, index_mapping[neuron_id], spikes_image.times.astype(int)] += 1\n",
    "\n",
    "            gc.collect()\n",
    "\n",
    "        # gc.collect()"
   ]
  },
  {
   "cell_type": "code",
   "execution_count": null,
   "id": "cc9f2d61-20ba-4c88-875d-fbd45600dfb8",
   "metadata": {},
   "outputs": [],
   "source": [
    "spikes_blank.times.astype(int)"
   ]
  },
  {
   "cell_type": "code",
   "execution_count": null,
   "id": "b46e33e4-f79b-4ae1-9481-97acef8e7b36",
   "metadata": {},
   "outputs": [],
   "source": [
    "blank_spikes.shape\n",
    "image_spikes.shape"
   ]
  },
  {
   "cell_type": "code",
   "execution_count": null,
   "id": "16a1ee4b-3608-4042-b825-32d95eed8099",
   "metadata": {},
   "outputs": [],
   "source": [
    "\n",
    "                # print(blank_spikes_segments)\n",
    "                # print(image_spikes_segments)\n",
    "\n",
    "\n",
    "        # print(image_segment_spikes[0])\n",
    "\n",
    "        \n",
    "        \n",
    "            # for seg in tqdm(segs):\n",
    "            #     stim = MozaikParametrized.idd(seg.annotations['stimulus'])\n",
    "                \n",
    "            #     img_number = stim.image_path.split('/')[-1].split('_')[0]\n",
    "            #     resp_path = os.path.join('/home/beinhaud', 'single_trial', img_number)\n",
    "            #     print(\"NEW TRIAL\")\n",
    "            #     print(seg)\n",
    "            #     resp = seg.mean_rates()\n",
    "            #     # print(resp.shape)\n",
    "    \n",
    "            #     gc.collect()\n",
    "                \n",
    "            #     os.makedirs(resp_path, exist_ok=True)\n",
    "            #     np.save(os.path.join(resp_path, get_sheetname(sheet) +'.npy'), resp)\n",
    "            #     if trial == 0:\n",
    "            #         if sheet == sheets[0]:\n",
    "            #             img = reconstruct_stimuli(stim)\n",
    "            #             np.save(os.path.join(resp_path, 'stimulus' +'.npy'), img)\n",
    "            #             gc.collect()\n",
    "\n",
    "        \n",
    "\n",
    "            # stims = dsv2.get_stimuli()\n",
    "            # stims_n = [MozaikParametrized.idd(st).image_path.split('/')[-1].split('_')[0] for st in stims]\n",
    "\n",
    "            # # needs to be fixed\n",
    "            # segs = [seg for _, seg in sorted(zip(stims_n, segs))]\n",
    "            \n",
    "            # gc.collect()\n",
    "            # resps = [s.mean_rates() for s in tqdm(segs)]\n",
    "            # gc.collect()\n",
    "            # for i, stim in enumerate(tqdm(stims)):\n",
    "            #     parametrized_stim = MozaikParametrized.idd(stim)\n",
    "            #     img_number = parametrized_stim.image_path.split('/')[-1].split('_')[0]\n",
    "            #     resp_path = os.path.join('/CSNG/baroni/test/', 'single_trial', img_number)\n",
    "            #     os.makedirs(resp_path, exist_ok=True)\n",
    "            #     np.save(os.path.join(resp_path, sf +'.npy'), resps[i])\n",
    "            #     if trial ==0:\n",
    "            #         if sheet == sheets[0]:\n",
    "            #             img = reconstruct_stimuli(parametrized_stim)\n",
    "            #             np.save(os.path.join(resp_path, 'stimulus' +'.npy'), img)\n",
    "            #             gc.collect()"
   ]
  },
  {
   "cell_type": "code",
   "execution_count": 11,
   "id": "d1a46ae9-f881-4818-a65c-a5a1761690c7",
   "metadata": {},
   "outputs": [
    {
     "data": {
      "text/plain": [
       "['{\"module_path\" :\"mozaik.stimuli.vision.topographica_based\",\"background_luminance\":50.0, \"blank_duration\":0.0, \"density\":20.0, \"direct_stimulation_name\":None, \"direct_stimulation_parameters\":None, \"duration\":560, \"frame_duration\":7.0, \"image_duration\":560.0, \"image_path\":\\'/projects/ImageDatasets/imagenet/all_imagenet_images/0000000069_n02093754_1901.JPEG\\', \"location_x\":0.0, \"location_y\":0.0, \"name\":\\'NaturalImage\\', \"size\":11, \"size_x\":11.0, \"size_y\":11.0, \"trial\":0}',\n",
       " '{\"module_path\" :\"mozaik.stimuli.vision.topographica_based\",\"background_luminance\":50.0, \"blank_duration\":0.0, \"density\":20.0, \"direct_stimulation_name\":None, \"direct_stimulation_parameters\":None, \"duration\":560, \"frame_duration\":7.0, \"image_duration\":560.0, \"image_path\":\\'/projects/ImageDatasets/imagenet/all_imagenet_images/0000000090_n02007558_12982.JPEG\\', \"location_x\":0.0, \"location_y\":0.0, \"name\":\\'NaturalImage\\', \"size\":11, \"size_x\":11.0, \"size_y\":11.0, \"trial\":0}']"
      ]
     },
     "execution_count": 11,
     "metadata": {},
     "output_type": "execute_result"
    }
   ],
   "source": [
    "dsv2.get_stimuli(ordered=True)[0:2]"
   ]
  },
  {
   "cell_type": "code",
   "execution_count": 12,
   "id": "860c7ad9-8644-47d6-89f5-aa32b70a24c6",
   "metadata": {},
   "outputs": [
    {
     "name": "stdout",
     "output_type": "stream",
     "text": [
      "2\n",
      "2\n"
     ]
    }
   ],
   "source": [
    "print(len(segs_stimuli))\n",
    "print(len(segs_blank))\n",
    "# print(segs_stimuli[0])\n",
    "# print(segs_blank[0])\n",
    "# segs_stimuli[0]"
   ]
  },
  {
   "cell_type": "code",
   "execution_count": 13,
   "id": "9be34d1f-0aa8-4928-9832-b38eb0995156",
   "metadata": {},
   "outputs": [
    {
     "data": {
      "text/plain": [
       "[SpikeTrain containing 0 spikes; units ms; datatype float64 \n",
       " annotations: {'source_population': 'V1_Exc_L2/3',\n",
       "   'source_id': 61286,\n",
       "   'source_index': 0,\n",
       "   'channel_id': 61286}\n",
       " time: 0.0 ms to 560.0 ms,\n",
       " SpikeTrain containing 1 spikes; units ms; datatype float64 \n",
       " annotations: {'source_population': 'V1_Exc_L2/3',\n",
       "   'source_id': 61287,\n",
       "   'source_index': 1,\n",
       "   'channel_id': 61287}\n",
       " time: 0.0 ms to 560.0 ms,\n",
       " SpikeTrain containing 2 spikes; units ms; datatype float64 \n",
       " annotations: {'source_population': 'V1_Exc_L2/3',\n",
       "   'source_id': 61288,\n",
       "   'source_index': 2,\n",
       "   'channel_id': 61288}\n",
       " time: 0.0 ms to 560.0 ms,\n",
       " SpikeTrain containing 0 spikes; units ms; datatype float64 \n",
       " annotations: {'source_population': 'V1_Exc_L2/3',\n",
       "   'source_id': 61289,\n",
       "   'source_index': 3,\n",
       "   'channel_id': 61289}\n",
       " time: 0.0 ms to 560.0 ms,\n",
       " SpikeTrain containing 0 spikes; units ms; datatype float64 \n",
       " annotations: {'source_population': 'V1_Exc_L2/3',\n",
       "   'source_id': 61290,\n",
       "   'source_index': 4,\n",
       "   'channel_id': 61290}\n",
       " time: 0.0 ms to 560.0 ms]"
      ]
     },
     "execution_count": 13,
     "metadata": {},
     "output_type": "execute_result"
    }
   ],
   "source": [
    "segs_stimuli[0].spiketrains[0:5]"
   ]
  },
  {
   "cell_type": "code",
   "execution_count": 14,
   "id": "c3065ab9-0746-4e6d-a461-adeceee586e1",
   "metadata": {},
   "outputs": [
    {
     "data": {
      "text/plain": [
       "[SpikeTrain containing 0 spikes; units ms; datatype float64 \n",
       " annotations: {'source_population': 'V1_Exc_L2/3',\n",
       "   'source_id': 61286,\n",
       "   'source_index': 0,\n",
       "   'channel_id': 61286}\n",
       " time: 0.0 ms to 150.0 ms,\n",
       " SpikeTrain containing 1 spikes; units ms; datatype float64 \n",
       " annotations: {'source_population': 'V1_Exc_L2/3',\n",
       "   'source_id': 61287,\n",
       "   'source_index': 1,\n",
       "   'channel_id': 61287}\n",
       " time: 0.0 ms to 150.0 ms,\n",
       " SpikeTrain containing 0 spikes; units ms; datatype float64 \n",
       " annotations: {'source_population': 'V1_Exc_L2/3',\n",
       "   'source_id': 61288,\n",
       "   'source_index': 2,\n",
       "   'channel_id': 61288}\n",
       " time: 0.0 ms to 150.0 ms,\n",
       " SpikeTrain containing 0 spikes; units ms; datatype float64 \n",
       " annotations: {'source_population': 'V1_Exc_L2/3',\n",
       "   'source_id': 61289,\n",
       "   'source_index': 3,\n",
       "   'channel_id': 61289}\n",
       " time: 0.0 ms to 150.0 ms,\n",
       " SpikeTrain containing 1 spikes; units ms; datatype float64 \n",
       " annotations: {'source_population': 'V1_Exc_L2/3',\n",
       "   'source_id': 61290,\n",
       "   'source_index': 4,\n",
       "   'channel_id': 61290}\n",
       " time: 0.0 ms to 150.0 ms]"
      ]
     },
     "execution_count": 14,
     "metadata": {},
     "output_type": "execute_result"
    }
   ],
   "source": [
    "segs_blank[0].spiketrains[0:5]"
   ]
  },
  {
   "cell_type": "code",
   "execution_count": 15,
   "id": "46c804e8-2181-4442-abec-00585911e763",
   "metadata": {},
   "outputs": [
    {
     "data": {
      "text/plain": [
       "array([272., 464.]) * ms"
      ]
     },
     "execution_count": 15,
     "metadata": {},
     "output_type": "execute_result"
    }
   ],
   "source": [
    "type(segs_stimuli[0].spiketrains)\n",
    "segs_stimuli[0].spiketrains[2].times"
   ]
  },
  {
   "cell_type": "code",
   "execution_count": 16,
   "id": "625e0686-1dfd-4248-8717-3a07930595cb",
   "metadata": {},
   "outputs": [
    {
     "data": {
      "text/plain": [
       "2"
      ]
     },
     "execution_count": 16,
     "metadata": {},
     "output_type": "execute_result"
    }
   ],
   "source": [
    "segs_stimuli[0].spiketrains[2].annotations['source_index']"
   ]
  },
  {
   "cell_type": "code",
   "execution_count": 17,
   "id": "a5a98779-4192-47ec-a322-4045804121ad",
   "metadata": {},
   "outputs": [
    {
     "data": {
      "text/plain": [
       "array([], dtype=float64) * ms"
      ]
     },
     "execution_count": 17,
     "metadata": {},
     "output_type": "execute_result"
    }
   ],
   "source": [
    "segs_blank[0].spiketrains[2].times"
   ]
  },
  {
   "cell_type": "code",
   "execution_count": null,
   "id": "3e4f34f4-d1be-4b9b-a5be-2ececf8162af",
   "metadata": {},
   "outputs": [],
   "source": []
  },
  {
   "cell_type": "code",
   "execution_count": null,
   "id": "86b85933-bf55-4a54-a535-1ad16c76f506",
   "metadata": {},
   "outputs": [],
   "source": [
    "# if len(trials) != 1:\n",
    "#     print(f'There are multiple trials ({len(trials)})')\n",
    "#     for sheet, sf in zip(sheets, sheet_folders):\n",
    "#         print(f'sheet={sheet}')\n",
    "#         dsv1 = param_filter_query(dsv, sheet_name = sheet)\n",
    "#         for trial in trials:\n",
    "#             print(f'trial={trial}')\n",
    "#             dsv2 = param_filter_query(dsv1, st_trial = trial)\n",
    "#             segs = dsv2.get_segments()\n",
    "#             stims = dsv2.get_stimuli()\n",
    "#             stims_n = [MozaikParametrized.idd(st).image_path.split('/')[-1].split('_')[0] for st in stims]\n",
    "#             segs = [seg for _, seg in sorted(zip(stims_n, segs))]\n",
    "\n",
    "#             gc.collect()\n",
    "#             resps = [s.mean_rates() for s in tqdm(segs)]\n",
    "#             gc.collect()\n",
    "#             for i, stim in enumerate(tqdm(stims)):\n",
    "#                 parametrized_stim = MozaikParametrized.idd(stim)\n",
    "#                 img_number = parametrized_stim.image_path.split('/')[-1].split('_')[0]\n",
    "#                 resp_path = os.path.join('/home/baroni/mozaik-models_v1paper/exported_data', 'multitrial', img_number)\n",
    "#                 resp_path_trial = os.path.join('/home/baroni/mozaik-models_v1paper/exported_data', 'multitrial', img_number, 'trial='+str(trial))\n",
    "#                 os.makedirs(resp_path_trial, exist_ok=True)\n",
    "#                 np.save(os.path.join(resp_path_trial, sf +'.npy'), resps[i])\n",
    "#                 if trial ==0:\n",
    "#                     if sheet == sheets[0]:\n",
    "#                         img = reconstruct_stimuli(parametrized_stim)\n",
    "#                         np.save(os.path.join(resp_path, 'stimulus' +'.npy'), img)\n",
    "#                         gc.collect()"
   ]
  },
  {
   "cell_type": "code",
   "execution_count": null,
   "id": "28a9b02c-f28d-4fc6-a0a9-82c6b8051c7b",
   "metadata": {},
   "outputs": [],
   "source": []
  },
  {
   "cell_type": "code",
   "execution_count": null,
   "id": "aefed71e-e281-4197-8844-031637489995",
   "metadata": {},
   "outputs": [],
   "source": []
  }
 ],
 "metadata": {
  "kernelspec": {
   "display_name": "Python 3 (ipykernel)",
   "language": "python",
   "name": "python3"
  },
  "language_info": {
   "codemirror_mode": {
    "name": "ipython",
    "version": 3
   },
   "file_extension": ".py",
   "mimetype": "text/x-python",
   "name": "python",
   "nbconvert_exporter": "python",
   "pygments_lexer": "ipython3",
   "version": "3.8.10"
  }
 },
 "nbformat": 4,
 "nbformat_minor": 5
}
